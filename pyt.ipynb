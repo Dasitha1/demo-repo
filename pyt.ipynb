import numpy as np
import pandas as pd

a = np.array(['ape','john','cat'])
